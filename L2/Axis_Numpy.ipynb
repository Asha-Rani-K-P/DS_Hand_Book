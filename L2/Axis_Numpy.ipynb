{
  "nbformat": 4,
  "nbformat_minor": 0,
  "metadata": {
    "colab": {
      "provenance": []
    },
    "kernelspec": {
      "name": "python3",
      "display_name": "Python 3"
    },
    "language_info": {
      "name": "python"
    }
  },
  "cells": [
    {
      "cell_type": "code",
      "source": [
        "import numpy as np\n",
        "\n",
        "# Creating a 2D array (matrix)\n",
        "matrix = np.array([[1, 2, 3],\n",
        "                   [4, 5, 6],\n",
        "                   [7, 8, 9]])\n",
        "\n",
        "print(\"Original matrix:\")\n",
        "print(matrix)\n",
        "\n",
        "# Sum along axis 0 (columns)\n",
        "sum_axis_0 = np.sum(matrix, axis=0)\n",
        "print(\"Sum along axis 0 (columns):\")\n",
        "print(sum_axis_0)\n",
        "\n",
        "# Sum along axis 1 (rows)\n",
        "sum_axis_1 = np.sum(matrix, axis=1)\n",
        "print(\"Sum along axis 1 (rows):\")\n",
        "print(sum_axis_1)\n",
        "\n",
        "# Mean along axis 0 (columns)\n",
        "mean_axis_0 = np.mean(matrix, axis=0)\n",
        "print(\"Mean along axis 0 (columns):\")\n",
        "print(mean_axis_0)\n",
        "\n",
        "# Mean along axis 1 (rows)\n",
        "mean_axis_1 = np.mean(matrix, axis=1)\n",
        "print(\"Mean along axis 1 (rows):\")\n",
        "print(mean_axis_1)\n",
        "\n",
        "# Creating a 3D array (tensor)\n",
        "tensor = np.array([[[1, 2], [3, 4]],\n",
        "                   [[5, 6], [7, 8]],\n",
        "                   [[9, 10], [11, 12]]])\n",
        "\n",
        "print(\"Original tensor:\")\n",
        "print(tensor)\n",
        "\n",
        "# Sum along axis 0 (depth)\n",
        "sum_axis_0_3d = np.sum(tensor, axis=0)\n",
        "print(\"Sum along axis 0 (depth) in 3D tensor:\")\n",
        "print(sum_axis_0_3d)\n",
        "\n",
        "# Sum along axis 1 (rows)\n",
        "sum_axis_1_3d = np.sum(tensor, axis=1)\n",
        "print(\"Sum along axis 1 (rows) in 3D tensor:\")\n",
        "print(sum_axis_1_3d)\n",
        "\n",
        "# Sum along axis 2 (columns)\n",
        "sum_axis_2_3d = np.sum(tensor, axis=2)\n",
        "print(\"Sum along axis 2 (columns) in 3D tensor:\")\n",
        "print(sum_axis_2_3d)\n"
      ],
      "metadata": {
        "colab": {
          "base_uri": "https://localhost:8080/"
        },
        "id": "iujJAhcHDKeo",
        "outputId": "00cfe936-2472-4b05-8f29-8413b88f5196"
      },
      "execution_count": 39,
      "outputs": [
        {
          "output_type": "stream",
          "name": "stdout",
          "text": [
            "Original matrix:\n",
            "[[1 2 3]\n",
            " [4 5 6]\n",
            " [7 8 9]]\n",
            "Sum along axis 0 (columns):\n",
            "[12 15 18]\n",
            "Sum along axis 1 (rows):\n",
            "[ 6 15 24]\n",
            "Mean along axis 0 (columns):\n",
            "[4. 5. 6.]\n",
            "Mean along axis 1 (rows):\n",
            "[2. 5. 8.]\n",
            "Original tensor:\n",
            "[[[ 1  2]\n",
            "  [ 3  4]]\n",
            "\n",
            " [[ 5  6]\n",
            "  [ 7  8]]\n",
            "\n",
            " [[ 9 10]\n",
            "  [11 12]]]\n",
            "Sum along axis 0 (depth) in 3D tensor:\n",
            "[[15 18]\n",
            " [21 24]]\n",
            "Sum along axis 1 (rows) in 3D tensor:\n",
            "[[ 4  6]\n",
            " [12 14]\n",
            " [20 22]]\n",
            "Sum along axis 2 (columns) in 3D tensor:\n",
            "[[ 3  7]\n",
            " [11 15]\n",
            " [19 23]]\n"
          ]
        }
      ]
    },
    {
      "cell_type": "code",
      "source": [],
      "metadata": {
        "id": "KRXcqyp3DK9w"
      },
      "execution_count": null,
      "outputs": []
    }
  ]
}