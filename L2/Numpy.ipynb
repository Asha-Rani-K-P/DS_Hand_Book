{
  "nbformat": 4,
  "nbformat_minor": 0,
  "metadata": {
    "colab": {
      "provenance": []
    },
    "kernelspec": {
      "name": "python3",
      "display_name": "Python 3"
    },
    "language_info": {
      "name": "python"
    }
  },
  "cells": [
    {
      "cell_type": "code",
      "source": [
        "import numpy as np\n",
        "\n",
        "# Array Creation\n",
        "array_1d = np.array([1, 2, 3, 4, 5])\n",
        "array_2d = np.array([[1, 2, 3], [4, 5, 6]])\n",
        "zeros_array = np.zeros((3, 4))\n",
        "ones_array = np.ones((2, 3))\n",
        "range_array = np.arange(10)\n",
        "linspace_array = np.linspace(0, 1, 5)\n",
        "\n",
        "# Basic Operations\n",
        "array_a = np.array([1, 2, 3])\n",
        "array_b = np.array([4, 5, 6])\n",
        "sum_array = array_a + array_b\n",
        "mult_array = array_a * array_b\n",
        "matrix_a = np.array([[1, 2], [3, 4]])\n",
        "matrix_b = np.array([[5, 6], [7, 8]])\n",
        "matrix_product = np.dot(matrix_a, matrix_b)\n",
        "transpose_matrix = np.transpose(matrix_a)\n",
        "\n",
        "# Statistical Operations\n",
        "stats_array = np.array([1, 2, 3, 4, 5])\n",
        "mean_value = np.mean(stats_array)\n",
        "median_value = np.median(stats_array)\n",
        "std_dev = np.std(stats_array)\n",
        "sum_value = np.sum(stats_array)\n",
        "\n",
        "# Reshaping and Indexing\n",
        "reshaped_array = np.reshape(np.arange(12), (3, 4))\n",
        "element = reshaped_array[0, 1]\n",
        "first_row = reshaped_array[0, :]\n",
        "first_column = reshaped_array[:, 0]\n",
        "sliced_array = reshaped_array[:2, -2:]\n",
        "\n",
        "# Advanced Operations\n",
        "exp_array = np.exp(array_a)\n",
        "sqrt_array = np.sqrt(array_a)\n",
        "concatenated_array = np.concatenate((array_a, array_b))\n",
        "broadcast_array = array_a + 10\n",
        "\n",
        "# Display all results\n",
        "print(\"1D Array:\", array_1d)\n",
        "print(\"2D Array:\", array_2d)\n",
        "print(\"Array of zeros:\", zeros_array)\n",
        "print(\"Array of ones:\", ones_array)\n",
        "print(\"Array with a range of values:\", range_array)\n",
        "print(\"Array with evenly spaced values:\", linspace_array)\n",
        "print(\"Sum of arrays:\", sum_array)\n",
        "print(\"Element-wise multiplication of arrays:\", mult_array)\n",
        "print(\"Matrix multiplication:\", matrix_product)\n",
        "print(\"Transpose of a matrix:\", transpose_matrix)\n",
        "print(\"Mean value:\", mean_value)\n",
        "print(\"Median value:\", median_value)\n",
        "print(\"Standard deviation:\", std_dev)\n",
        "print(\"Sum of array elements:\", sum_value)\n",
        "print(\"Reshaped array (3x4):\", reshaped_array)\n",
        "print(\"Element at (0, 1):\", element)\n",
        "print(\"First row:\", first_row)\n",
        "print(\"First column:\", first_column)\n",
        "print(\"Sliced array (first two rows, last two columns):\", sliced_array)\n",
        "print(\"Exponential of each element in the array:\", exp_array)\n",
        "print(\"Square root of each element in the array:\", sqrt_array)\n",
        "print(\"Concatenated array:\", concatenated_array)\n",
        "print(\"Broadcasting (adding 10 to each element):\", broadcast_array)\n"
      ],
      "metadata": {
        "id": "iujJAhcHDKeo",
        "outputId": "4a9160a9-7ce7-48d2-8056-3ab8c62a8ecf",
        "colab": {
          "base_uri": "https://localhost:8080/"
        }
      },
      "execution_count": 38,
      "outputs": [
        {
          "output_type": "stream",
          "name": "stdout",
          "text": [
            "1D Array: [1 2 3 4 5]\n",
            "2D Array: [[1 2 3]\n",
            " [4 5 6]]\n",
            "Array of zeros: [[0. 0. 0. 0.]\n",
            " [0. 0. 0. 0.]\n",
            " [0. 0. 0. 0.]]\n",
            "Array of ones: [[1. 1. 1.]\n",
            " [1. 1. 1.]]\n",
            "Array with a range of values: [0 1 2 3 4 5 6 7 8 9]\n",
            "Array with evenly spaced values: [0.   0.25 0.5  0.75 1.  ]\n",
            "Sum of arrays: [5 7 9]\n",
            "Element-wise multiplication of arrays: [ 4 10 18]\n",
            "Matrix multiplication: [[19 22]\n",
            " [43 50]]\n",
            "Transpose of a matrix: [[1 3]\n",
            " [2 4]]\n",
            "Mean value: 3.0\n",
            "Median value: 3.0\n",
            "Standard deviation: 1.4142135623730951\n",
            "Sum of array elements: 15\n",
            "Reshaped array (3x4): [[ 0  1  2  3]\n",
            " [ 4  5  6  7]\n",
            " [ 8  9 10 11]]\n",
            "Element at (0, 1): 1\n",
            "First row: [0 1 2 3]\n",
            "First column: [0 4 8]\n",
            "Sliced array (first two rows, last two columns): [[2 3]\n",
            " [6 7]]\n",
            "Exponential of each element in the array: [ 2.71828183  7.3890561  20.08553692]\n",
            "Square root of each element in the array: [1.         1.41421356 1.73205081]\n",
            "Concatenated array: [1 2 3 4 5 6]\n",
            "Broadcasting (adding 10 to each element): [11 12 13]\n"
          ]
        }
      ]
    },
    {
      "cell_type": "code",
      "source": [],
      "metadata": {
        "id": "KRXcqyp3DK9w"
      },
      "execution_count": null,
      "outputs": []
    }
  ]
}