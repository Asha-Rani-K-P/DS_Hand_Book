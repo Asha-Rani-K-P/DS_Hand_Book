{
  "nbformat": 4,
  "nbformat_minor": 0,
  "metadata": {
    "colab": {
      "provenance": []
    },
    "kernelspec": {
      "name": "python3",
      "display_name": "Python 3"
    },
    "language_info": {
      "name": "python"
    }
  },
  "cells": [
    {
      "cell_type": "code",
      "source": [
        "import tensorflow as tf\n",
        "from tensorflow.keras.models import Sequential\n",
        "from tensorflow.keras.layers import Dense, Flatten, Dropout\n",
        "from tensorflow.keras.datasets import mnist\n",
        "from tensorflow.keras.utils import to_categorical\n",
        "\n",
        "# Step 1: Load and Preprocess Data\n",
        "# Load the MNIST dataset\n",
        "(X_train, y_train), (X_test, y_test) = mnist.load_data()\n",
        "\n",
        "# Normalize the data to the range [0, 1]\n",
        "X_train = X_train / 255.0\n",
        "X_test = X_test / 255.0\n",
        "\n",
        "# Convert labels to one-hot encoding\n",
        "y_train = to_categorical(y_train, 10)\n",
        "y_test = to_categorical(y_test, 10)\n",
        "\n",
        "# Step 2: Build the Deep Neural Network Model\n",
        "model = Sequential([\n",
        "    Flatten(input_shape=(28, 28)),        # Flatten the 28x28 images into 1D vectors\n",
        "    Dense(1024, activation='relu'),       # Fully connected layer with 1024 units and ReLU activation\n",
        "    Dropout(0.3),                         # Dropout layer with 30% dropout rate\n",
        "    Dense(512, activation='relu'),        # Fully connected layer with 512 units and ReLU activation\n",
        "    Dropout(0.3),                         # Dropout layer with 30% dropout rate\n",
        "    Dense(256, activation='relu'),        # Fully connected layer with 256 units and ReLU activation\n",
        "    Dropout(0.3),                         # Dropout layer with 30% dropout rate\n",
        "    Dense(128, activation='relu'),        # Fully connected layer with 128 units and ReLU activation\n",
        "    Dropout(0.3),                         # Dropout layer with 30% dropout rate\n",
        "    Dense(64, activation='relu'),         # Fully connected layer with 64 units and ReLU activation\n",
        "    Dropout(0.3),                         # Dropout layer with 30% dropout rate\n",
        "    Dense(10, activation='softmax')       # Output layer with 10 units (one for each digit) and softmax activation\n",
        "])\n",
        "\n",
        "# Step 3: Compile the Model\n",
        "model.compile(optimizer='adam',               # Adam optimizer\n",
        "              loss='categorical_crossentropy', # Loss function for multi-class classification\n",
        "              metrics=['accuracy'])            # Metric to evaluate during training\n",
        "\n",
        "# Step 4: Train the Model\n",
        "model.fit(X_train, y_train, epochs=30, batch_size=64, validation_split=0.2)  # Train the model for 30 epochs\n",
        "\n",
        "# Step 5: Evaluate the Model\n",
        "loss, accuracy = model.evaluate(X_test, y_test)\n",
        "print(f'Test accuracy: {accuracy:.4f}')\n",
        "\n",
        "# Predicting on test data\n",
        "predictions = model.predict(X_test)\n",
        "\n",
        "# Displaying the first prediction and the corresponding label\n",
        "import numpy as np\n",
        "import matplotlib.pyplot as plt\n",
        "\n",
        "print(\"First prediction (probabilities):\", predictions[0])\n",
        "print(\"Predicted class:\", np.argmax(predictions[0]))\n",
        "print(\"True class:\", np.argmax(y_test[0]))\n",
        "\n",
        "# Visualize the results\n",
        "plt.bar(range(10), predictions[0])\n",
        "plt.xticks(range(10))\n",
        "plt.xlabel('Class')\n",
        "plt.ylabel('Probability')\n",
        "plt.title('Predicted probabilities for the first test sample')\n",
        "plt.show()\n"
      ],
      "metadata": {
        "colab": {
          "base_uri": "https://localhost:8080/"
        },
        "id": "7dgBcix0E5B_",
        "outputId": "a6e4bbe5-030c-4f4c-b06a-3fdf30fc7a43"
      },
      "execution_count": null,
      "outputs": [
        {
          "output_type": "stream",
          "name": "stdout",
          "text": [
            "Epoch 1/30\n",
            "750/750 [==============================] - 32s 41ms/step - loss: 0.4582 - accuracy: 0.8643 - val_loss: 0.1778 - val_accuracy: 0.9532\n",
            "Epoch 2/30\n",
            " 61/750 [=>............................] - ETA: 20s - loss: 0.1990 - accuracy: 0.9529"
          ]
        }
      ]
    },
    {
      "cell_type": "code",
      "source": [],
      "metadata": {
        "id": "Q-1jJlaaFHdX"
      },
      "execution_count": null,
      "outputs": []
    }
  ]
}