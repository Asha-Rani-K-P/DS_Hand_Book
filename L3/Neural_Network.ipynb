{
  "nbformat": 4,
  "nbformat_minor": 0,
  "metadata": {
    "colab": {
      "provenance": []
    },
    "kernelspec": {
      "name": "python3",
      "display_name": "Python 3"
    },
    "language_info": {
      "name": "python"
    }
  },
  "cells": [
    {
      "cell_type": "code",
      "source": [
        "import tensorflow as tf\n",
        "from tensorflow.keras.models import Sequential\n",
        "from tensorflow.keras.layers import Dense, Flatten\n",
        "from tensorflow.keras.datasets import mnist\n",
        "from tensorflow.keras.utils import to_categorical\n",
        "\n",
        "# Step 1: Load and Preprocess Data\n",
        "# Load the MNIST dataset\n",
        "(X_train, y_train), (X_test, y_test) = mnist.load_data()\n",
        "\n",
        "# Normalize the data to the range [0, 1]\n",
        "X_train = X_train / 255.0\n",
        "X_test = X_test / 255.0\n",
        "\n",
        "# Convert labels to one-hot encoding\n",
        "y_train = to_categorical(y_train, 10)\n",
        "y_test = to_categorical(y_test, 10)\n",
        "\n",
        "# Step 2: Build the Neural Network Model\n",
        "model = Sequential([\n",
        "    Flatten(input_shape=(28, 28)),       # Flatten the 28x28 images into 1D vectors\n",
        "    Dense(128, activation='relu'),       # Fully connected layer with 128 units and ReLU activation\n",
        "    Dense(64, activation='relu'),        # Fully connected layer with 64 units and ReLU activation\n",
        "    Dense(10, activation='softmax')      # Output layer with 10 units (one for each digit) and softmax activation\n",
        "])\n",
        "\n",
        "# Step 3: Compile the Model\n",
        "model.compile(optimizer='adam',          # Adam optimizer\n",
        "              loss='categorical_crossentropy',  # Loss function for multi-class classification\n",
        "              metrics=['accuracy'])      # Metric to evaluate during training\n",
        "\n",
        "# Step 4: Train the Model\n",
        "model.fit(X_train, y_train, epochs=10, batch_size=32, validation_split=0.2)  # Train the model for 10 epochs\n",
        "\n",
        "# Step 5: Evaluate the Model\n",
        "loss, accuracy = model.evaluate(X_test, y_test)\n",
        "print(f'Test accuracy: {accuracy:.4f}')\n",
        "\n",
        "# Predicting on test data\n",
        "predictions = model.predict(X_test)\n",
        "\n",
        "# Displaying the first prediction and the corresponding label\n",
        "import numpy as np\n",
        "import matplotlib.pyplot as plt\n",
        "\n",
        "print(\"First prediction:\", np.argmax(predictions[0]))\n",
        "plt.imshow(X_test[0], cmap='gray')\n",
        "plt.title(f\"True label: {np.argmax(y_test[0])}\")\n",
        "plt.show()\n"
      ],
      "metadata": {
        "colab": {
          "base_uri": "https://localhost:8080/",
          "height": 903
        },
        "id": "iujJAhcHDKeo",
        "outputId": "a6009e54-1b6c-4683-e98b-b6791d7f73a8"
      },
      "execution_count": 40,
      "outputs": [
        {
          "output_type": "stream",
          "name": "stdout",
          "text": [
            "Downloading data from https://storage.googleapis.com/tensorflow/tf-keras-datasets/mnist.npz\n",
            "11490434/11490434 [==============================] - 0s 0us/step\n",
            "Epoch 1/10\n",
            "1500/1500 [==============================] - 9s 6ms/step - loss: 0.2709 - accuracy: 0.9210 - val_loss: 0.1404 - val_accuracy: 0.9578\n",
            "Epoch 2/10\n",
            "1500/1500 [==============================] - 7s 5ms/step - loss: 0.1123 - accuracy: 0.9657 - val_loss: 0.1223 - val_accuracy: 0.9646\n",
            "Epoch 3/10\n",
            "1500/1500 [==============================] - 9s 6ms/step - loss: 0.0770 - accuracy: 0.9765 - val_loss: 0.0946 - val_accuracy: 0.9720\n",
            "Epoch 4/10\n",
            "1500/1500 [==============================] - 7s 5ms/step - loss: 0.0575 - accuracy: 0.9820 - val_loss: 0.0969 - val_accuracy: 0.9723\n",
            "Epoch 5/10\n",
            "1500/1500 [==============================] - 8s 6ms/step - loss: 0.0450 - accuracy: 0.9859 - val_loss: 0.1093 - val_accuracy: 0.9720\n",
            "Epoch 6/10\n",
            "1500/1500 [==============================] - 7s 5ms/step - loss: 0.0367 - accuracy: 0.9882 - val_loss: 0.0990 - val_accuracy: 0.9736\n",
            "Epoch 7/10\n",
            "1500/1500 [==============================] - 9s 6ms/step - loss: 0.0285 - accuracy: 0.9904 - val_loss: 0.1008 - val_accuracy: 0.9755\n",
            "Epoch 8/10\n",
            "1500/1500 [==============================] - 16s 11ms/step - loss: 0.0229 - accuracy: 0.9922 - val_loss: 0.1088 - val_accuracy: 0.9749\n",
            "Epoch 9/10\n",
            "1500/1500 [==============================] - 17s 11ms/step - loss: 0.0226 - accuracy: 0.9929 - val_loss: 0.1100 - val_accuracy: 0.9757\n",
            "Epoch 10/10\n",
            "1500/1500 [==============================] - 17s 11ms/step - loss: 0.0198 - accuracy: 0.9936 - val_loss: 0.0993 - val_accuracy: 0.9772\n",
            "313/313 [==============================] - 1s 2ms/step - loss: 0.0966 - accuracy: 0.9768\n",
            "Test accuracy: 0.9768\n",
            "313/313 [==============================] - 1s 3ms/step\n",
            "First prediction: 7\n"
          ]
        },
        {
          "output_type": "display_data",
          "data": {
            "text/plain": [
              "<Figure size 640x480 with 1 Axes>"
            ],
            "image/png": "[encoded data removed]"
          },
          "metadata": {}
        }
      ]
    }
  ]
}