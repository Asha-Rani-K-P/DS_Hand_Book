{
  "nbformat": 4,
  "nbformat_minor": 0,
  "metadata": {
    "colab": {
      "provenance": []
    },
    "kernelspec": {
      "name": "python3",
      "display_name": "Python 3"
    },
    "language_info": {
      "name": "python"
    }
  },
  "cells": [
    {
      "cell_type": "code",
      "source": [
        "import nltk\n",
        "from nltk.corpus import gutenberg\n",
        "from nltk.tokenize import word_tokenize\n",
        "from nltk.corpus import stopwords\n",
        "from collections import Counter\n",
        "import pandas as pd\n",
        "import matplotlib.pyplot as plt"
      ],
      "metadata": {
        "id": "Pa7hoKCWA_Dy"
      },
      "execution_count": 10,
      "outputs": []
    },
    {
      "cell_type": "code",
      "source": [
        "# Download necessary NLTK data\n",
        "nltk.download('gutenberg')\n",
        "nltk.download('punkt')\n",
        "nltk.download('stopwords')"
      ],
      "metadata": {
        "colab": {
          "base_uri": "https://localhost:8080/"
        },
        "id": "A_abES9pBAAR",
        "outputId": "d0476830-1ade-4451-96a3-7ff2dbe1060d"
      },
      "execution_count": 11,
      "outputs": [
        {
          "output_type": "stream",
          "name": "stderr",
          "text": [
            "[nltk_data] Downloading package gutenberg to /root/nltk_data...\n",
            "[nltk_data]   Unzipping corpora/gutenberg.zip.\n",
            "[nltk_data] Downloading package punkt to /root/nltk_data...\n",
            "[nltk_data]   Unzipping tokenizers/punkt.zip.\n",
            "[nltk_data] Downloading package stopwords to /root/nltk_data...\n",
            "[nltk_data]   Unzipping corpora/stopwords.zip.\n"
          ]
        },
        {
          "output_type": "execute_result",
          "data": {
            "text/plain": [
              "True"
            ]
          },
          "metadata": {},
          "execution_count": 11
        }
      ]
    },
    {
      "cell_type": "code",
      "source": [
        "# Load a sample text from the Gutenberg corpus\n",
        "sample_text = gutenberg.raw('austen-emma.txt')\n",
        "\n",
        "# Display the first few characters of the text\n",
        "print(\"First few characters of the text:\")\n",
        "print(sample_text[:500])"
      ],
      "metadata": {
        "colab": {
          "base_uri": "https://localhost:8080/"
        },
        "id": "EReMbYZFBBAy",
        "outputId": "b194df7e-61e8-4393-9d50-bd1178e21ec7"
      },
      "execution_count": 12,
      "outputs": [
        {
          "output_type": "stream",
          "name": "stdout",
          "text": [
            "First few characters of the text:\n",
            "[Emma by Jane Austen 1816]\n",
            "\n",
            "VOLUME I\n",
            "\n",
            "CHAPTER I\n",
            "\n",
            "\n",
            "Emma Woodhouse, handsome, clever, and rich, with a comfortable home\n",
            "and happy disposition, seemed to unite some of the best blessings\n",
            "of existence; and had lived nearly twenty-one years in the world\n",
            "with very little to distress or vex her.\n",
            "\n",
            "She was the youngest of the two daughters of a most affectionate,\n",
            "indulgent father; and had, in consequence of her sister's marriage,\n",
            "been mistress of his house from a very early period.  Her mother\n",
            "had died t\n"
          ]
        }
      ]
    },
    {
      "cell_type": "code",
      "source": [
        "# Basic Data Manipulation\n",
        "# Tokenization - converting the text into a list of words\n",
        "tokens = word_tokenize(sample_text)\n",
        "print(\"First few tokens:\")\n",
        "print(tokens[:10])"
      ],
      "metadata": {
        "colab": {
          "base_uri": "https://localhost:8080/"
        },
        "id": "TbN4qXM-BDcz",
        "outputId": "7dd0daae-2ae4-428f-f659-60df90c52583"
      },
      "execution_count": 13,
      "outputs": [
        {
          "output_type": "stream",
          "name": "stdout",
          "text": [
            "First few tokens:\n",
            "['[', 'Emma', 'by', 'Jane', 'Austen', '1816', ']', 'VOLUME', 'I', 'CHAPTER']\n"
          ]
        }
      ]
    },
    {
      "cell_type": "code",
      "source": [
        "# Remove stop words\n",
        "stop_words = set(stopwords.words('english'))\n",
        "filtered_tokens = [word for word in tokens if word.lower() not in stop_words and word.isalpha()]\n",
        "print(\"First few filtered tokens:\")\n",
        "print(filtered_tokens[:10])"
      ],
      "metadata": {
        "colab": {
          "base_uri": "https://localhost:8080/"
        },
        "id": "4GdQ-p6VBG3S",
        "outputId": "8c270cf8-71ef-4c4e-e27a-698bb822e213"
      },
      "execution_count": 14,
      "outputs": [
        {
          "output_type": "stream",
          "name": "stdout",
          "text": [
            "First few filtered tokens:\n",
            "['Emma', 'Jane', 'Austen', 'VOLUME', 'CHAPTER', 'Emma', 'Woodhouse', 'handsome', 'clever', 'rich']\n"
          ]
        }
      ]
    },
    {
      "cell_type": "code",
      "source": [
        "# Calculate word frequency\n",
        "word_freq = Counter(filtered_tokens)\n",
        "print(\"Most common words:\")\n",
        "print(word_freq.most_common(10))"
      ],
      "metadata": {
        "colab": {
          "base_uri": "https://localhost:8080/"
        },
        "id": "lvXDyc5vBJAR",
        "outputId": "4b1fa984-66aa-43d5-9dc1-9cfb0017a3d7"
      },
      "execution_count": 15,
      "outputs": [
        {
          "output_type": "stream",
          "name": "stdout",
          "text": [
            "Most common words:\n",
            "[('Emma', 855), ('could', 824), ('would', 813), ('Miss', 592), ('must', 563), ('Harriet', 496), ('said', 483), ('much', 476), ('Weston', 429), ('one', 408)]\n"
          ]
        }
      ]
    },
    {
      "cell_type": "code",
      "source": [
        "# Convert word frequency to a DataFrame for better visualization\n",
        "word_freq_df = pd.DataFrame(word_freq.items(), columns=['Word', 'Frequency'])\n",
        "word_freq_df = word_freq_df.sort_values(by='Frequency', ascending=False)\n",
        "\n",
        "# Display the DataFrame\n",
        "print(\"Word frequency DataFrame:\")\n",
        "print(word_freq_df.head())"
      ],
      "metadata": {
        "colab": {
          "base_uri": "https://localhost:8080/"
        },
        "id": "509oiuWZBK-x",
        "outputId": "0321df0f-fa85-4ca3-9243-b271e4eb731e"
      },
      "execution_count": 16,
      "outputs": [
        {
          "output_type": "stream",
          "name": "stdout",
          "text": [
            "Word frequency DataFrame:\n",
            "      Word  Frequency\n",
            "0     Emma        855\n",
            "217  could        824\n",
            "166  would        813\n",
            "54    Miss        592\n",
            "231   must        563\n"
          ]
        }
      ]
    },
    {
      "cell_type": "code",
      "execution_count": 17,
      "metadata": {
        "colab": {
          "base_uri": "https://localhost:8080/",
          "height": 504
        },
        "id": "la5vgz8QA44J",
        "outputId": "6391d868-aba2-4355-d864-6bd897eabb1a"
      },
      "outputs": [
        {
          "output_type": "display_data",
          "data": {
            "text/plain": [
              "<Figure size 640x480 with 1 Axes>"
            ],
            "image/png": "[encoded data removed]"
          },
          "metadata": {}
        }
      ],
      "source": [
        "# Analyzing Data\n",
        "# Plotting - Basic plot example\n",
        "# Plot a bar chart of the top 10 most common words\n",
        "top_words = word_freq_df.head(10)\n",
        "plt.bar(top_words['Word'], top_words['Frequency'], color='blue')\n",
        "plt.title('Top 10 Most Common Words')\n",
        "plt.xlabel('Words')\n",
        "plt.ylabel('Frequency')\n",
        "plt.xticks(rotation=45)\n",
        "plt.show()"
      ]
    },
    {
      "cell_type": "code",
      "source": [],
      "metadata": {
        "id": "STuqayFhA9SM"
      },
      "execution_count": null,
      "outputs": []
    }
  ]
}